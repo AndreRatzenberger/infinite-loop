{
  "nbformat": 4,
  "nbformat_minor": 0,
  "metadata": {
    "colab": {
      "provenance": [],
      "collapsed_sections": [
        "CxZdxj0DsUpl"
      ],
      "toc_visible": true
    },
    "kernelspec": {
      "name": "python3",
      "display_name": "Python 3"
    },
    "language_info": {
      "name": "python"
    }
  },
  "cells": [
    {
      "cell_type": "markdown",
      "source": [],
      "metadata": {
        "id": "hn29zy1GqVQR"
      }
    },
    {
      "cell_type": "markdown",
      "source": [
        "## DSPy Intro Series 01 - Basic Prompting\n",
        "\n",
        "Get started with DSPy!\n",
        "\n",
        "Read the blog:\n",
        "\n",
        "https://publish.obsidian.md/infinite-loop/blog/dspy-intro/DSPy+Intro+Series+01"
      ],
      "metadata": {
        "id": "iRO5BJdCqGQn"
      }
    },
    {
      "cell_type": "markdown",
      "source": [
        "### Init"
      ],
      "metadata": {
        "id": "CxZdxj0DsUpl"
      }
    },
    {
      "cell_type": "code",
      "source": [
        "# Install & import stuff\n",
        "%%capture\n",
        "!pip install dspy-ai\n",
        "!pip install arize-phoenix openinference-instrumentation-dspy opentelemetry-exporter-otlp\n",
        "\n",
        "import os\n",
        "from getpass import getpass\n",
        "\n",
        "import dspy\n",
        "import openai\n",
        "import phoenix as px"
      ],
      "metadata": {
        "id": "9eEUMpnpvlWt"
      },
      "execution_count": null,
      "outputs": []
    },
    {
      "cell_type": "code",
      "source": [
        "# Logging\n",
        "from openinference.instrumentation.dspy import DSPyInstrumentor\n",
        "from opentelemetry import trace as trace_api\n",
        "from opentelemetry.exporter.otlp.proto.http.trace_exporter import OTLPSpanExporter\n",
        "from opentelemetry.sdk import trace as trace_sdk\n",
        "from opentelemetry.sdk.resources import Resource\n",
        "from opentelemetry.sdk.trace.export import SimpleSpanProcessor\n",
        "\n",
        "phoenix_session = px.launch_app()\n",
        "endpoint = \"http://127.0.0.1:6006/v1/traces\"\n",
        "resource = Resource(attributes={})\n",
        "tracer_provider = trace_sdk.TracerProvider(resource=resource)\n",
        "span_otlp_exporter = OTLPSpanExporter(endpoint=endpoint)\n",
        "tracer_provider.add_span_processor(SimpleSpanProcessor(span_exporter=span_otlp_exporter))\n",
        "trace_api.set_tracer_provider(tracer_provider=tracer_provider)\n",
        "DSPyInstrumentor().instrument()"
      ],
      "metadata": {
        "id": "Mqp5ky_wwkxB"
      },
      "execution_count": null,
      "outputs": []
    },
    {
      "cell_type": "code",
      "execution_count": null,
      "metadata": {
        "id": "EVPbAKjgqBbW"
      },
      "outputs": [],
      "source": [
        "# Check for needed user dara\n",
        "if not (openai_api_key := os.getenv(\"OPENAI_API_KEY\")):\n",
        "    openai_api_key = getpass(\"🔑 Enter your OpenAI API key: \")\n",
        "openai.api_key = openai_api_key\n",
        "os.environ[\"OPENAI_API_KEY\"] = openai_api_key"
      ]
    },
    {
      "cell_type": "markdown",
      "source": [
        "### Set Up\n",
        "\n",
        "Connect dspy with model"
      ],
      "metadata": {
        "id": "RTwyZEa3shQv"
      }
    },
    {
      "cell_type": "code",
      "source": [
        "import dspy\n",
        "\n",
        "llm = dspy.OpenAI(\n",
        "    model='gpt-3.5-turbo',\n",
        "    api_key=os.getenv(\"OPENAI_API_KEY\"),\n",
        "    max_tokens=4000\n",
        ")\n",
        "\n",
        "dspy.settings.configure(lm=llm)"
      ],
      "metadata": {
        "id": "bTd8YUwQsnJZ"
      },
      "execution_count": null,
      "outputs": []
    },
    {
      "cell_type": "markdown",
      "source": [
        "### Signatures\n",
        "\n",
        "Try out different signatures!"
      ],
      "metadata": {
        "id": "6GAXDLo4tL7V"
      }
    },
    {
      "cell_type": "code",
      "source": [
        "predictor = dspy.Predict(\"question -> answer\")\n",
        "print(predictor(question=\"What is a transformer model?\"))"
      ],
      "metadata": {
        "id": "txPnK0rXurcY"
      },
      "execution_count": null,
      "outputs": []
    },
    {
      "cell_type": "code",
      "source": [
        "predictor = dspy.Predict(\"idea -> projectplan\")\n",
        "print(predictor(idea=\"A webshop with flask\"))"
      ],
      "metadata": {
        "id": "1aOo_NhNs-Nz"
      },
      "execution_count": null,
      "outputs": []
    },
    {
      "cell_type": "code",
      "source": [
        "predictor = dspy.Predict(\"subject -> title, subtitle, blog_outline\")\n",
        "print(predictor(subject=\"Cats\"))"
      ],
      "metadata": {
        "id": "Pl2NNKituOLH"
      },
      "execution_count": null,
      "outputs": []
    },
    {
      "cell_type": "markdown",
      "source": [
        "### Signature class\n",
        "\n",
        "Implement the signature as a class!"
      ],
      "metadata": {
        "id": "afqIHulL1e6N"
      }
    },
    {
      "cell_type": "code",
      "source": [
        "class BasicBlogGenerator(dspy.Signature):\n",
        "    subject = dspy.InputField()\n",
        "    title = dspy.OutputField()\n",
        "    subtitles = dspy.OutputField()\n",
        "    blog_outline = dspy.OutputField()\n",
        "\n",
        "generate_blog = dspy.Predict(BasicBlogGenerator)\n",
        "\n",
        "subject='Cats (use dry-humor and sarcasm)'\n",
        "pred = generate_blog(subject=subject)\n",
        "\n",
        "print(f\"Subject:\\n{subject}\")\n",
        "print(f\"Title:\\n{pred.title}\")\n",
        "print(f\"Subtitles:\\n{pred.subtitles}\")\n",
        "print(f\"Outline:\\n{pred.blog_outline}\")"
      ],
      "metadata": {
        "id": "3CNX91jr1njq"
      },
      "execution_count": null,
      "outputs": []
    },
    {
      "cell_type": "markdown",
      "source": [
        "### Logs\n",
        "\n",
        "Take a look what's happening in the background!"
      ],
      "metadata": {
        "id": "Uhbv8kNJyjwb"
      }
    },
    {
      "cell_type": "code",
      "source": [
        "print(phoenix_session.url)"
      ],
      "metadata": {
        "id": "EzyiwgSAyiNZ"
      },
      "execution_count": null,
      "outputs": []
    }
  ]
}