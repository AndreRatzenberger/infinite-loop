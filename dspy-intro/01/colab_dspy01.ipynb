{
  "cells": [
    {
      "cell_type": "markdown",
      "metadata": {
        "id": "hn29zy1GqVQR"
      },
      "source": []
    },
    {
      "cell_type": "markdown",
      "metadata": {
        "id": "iRO5BJdCqGQn"
      },
      "source": [
        "## DSPy Intro Series 01 - Basic Prompting\n",
        "\n",
        "Get started with DSPy!\n",
        "\n",
        "Read the blog:\n",
        "\n",
        "https://publish.obsidian.md/infinite-loop/blog/dspy-intro/DSPy+Intro+Series+01"
      ]
    },
    {
      "cell_type": "markdown",
      "metadata": {
        "id": "CxZdxj0DsUpl"
      },
      "source": [
        "### Init"
      ]
    },
    {
      "cell_type": "code",
      "execution_count": null,
      "metadata": {
        "id": "9eEUMpnpvlWt"
      },
      "outputs": [],
      "source": [
        "# Install & import stuff\n",
        "%%capture\n",
        "!pip install dspy-ai\n",
        "!pip install arize-phoenix openinference-instrumentation-dspy opentelemetry-exporter-otlp\n",
        "\n",
        "import os\n",
        "from getpass import getpass\n",
        "\n",
        "import dspy\n",
        "import openai\n",
        "import phoenix as px"
      ]
    },
    {
      "cell_type": "code",
      "execution_count": null,
      "metadata": {
        "id": "Mqp5ky_wwkxB"
      },
      "outputs": [],
      "source": [
        "# Logging\n",
        "from openinference.instrumentation.dspy import DSPyInstrumentor\n",
        "from opentelemetry import trace as trace_api\n",
        "from opentelemetry.exporter.otlp.proto.http.trace_exporter import OTLPSpanExporter\n",
        "from opentelemetry.sdk import trace as trace_sdk\n",
        "from opentelemetry.sdk.resources import Resource\n",
        "from opentelemetry.sdk.trace.export import SimpleSpanProcessor\n",
        "\n",
        "phoenix_session = px.launch_app()\n",
        "endpoint = \"http://127.0.0.1:6006/v1/traces\"\n",
        "resource = Resource(attributes={})\n",
        "tracer_provider = trace_sdk.TracerProvider(resource=resource)\n",
        "span_otlp_exporter = OTLPSpanExporter(endpoint=endpoint)\n",
        "tracer_provider.add_span_processor(SimpleSpanProcessor(span_exporter=span_otlp_exporter))\n",
        "trace_api.set_tracer_provider(tracer_provider=tracer_provider)\n",
        "DSPyInstrumentor().instrument()"
      ]
    },
    {
      "cell_type": "code",
      "execution_count": null,
      "metadata": {
        "id": "EVPbAKjgqBbW"
      },
      "outputs": [],
      "source": [
        "# Check for needed user dara\n",
        "if not (openai_api_key := os.getenv(\"OPENAI_API_KEY\")):\n",
        "    openai_api_key = getpass(\"🔑 Enter your OpenAI API key: \")\n",
        "openai.api_key = openai_api_key\n",
        "os.environ[\"OPENAI_API_KEY\"] = openai_api_key"
      ]
    },
    {
      "cell_type": "markdown",
      "metadata": {
        "id": "RTwyZEa3shQv"
      },
      "source": [
        "### Set Up\n",
        "\n",
        "Connect dspy with model"
      ]
    },
    {
      "cell_type": "code",
      "execution_count": null,
      "metadata": {
        "id": "bTd8YUwQsnJZ"
      },
      "outputs": [],
      "source": [
        "import dspy\n",
        "\n",
        "llm = dspy.OpenAI(\n",
        "    model='gpt-3.5-turbo',\n",
        "    api_key=os.getenv(\"OPENAI_API_KEY\"),\n",
        "    max_tokens=4000\n",
        ")\n",
        "\n",
        "dspy.settings.configure(lm=llm)"
      ]
    },
    {
      "cell_type": "markdown",
      "metadata": {
        "id": "6GAXDLo4tL7V"
      },
      "source": [
        "### Signatures\n",
        "\n",
        "Try out different signatures!"
      ]
    },
    {
      "cell_type": "code",
      "execution_count": null,
      "metadata": {
        "id": "txPnK0rXurcY"
      },
      "outputs": [],
      "source": [
        "predictor = dspy.Predict(\"question -> answer\")\n",
        "print(predictor(question=\"What is a transformer model?\"))"
      ]
    },
    {
      "cell_type": "code",
      "execution_count": null,
      "metadata": {
        "id": "1aOo_NhNs-Nz"
      },
      "outputs": [],
      "source": [
        "predictor = dspy.Predict(\"idea -> projectplan\")\n",
        "print(predictor(idea=\"A webshop with flask\"))"
      ]
    },
    {
      "cell_type": "code",
      "execution_count": null,
      "metadata": {
        "id": "Pl2NNKituOLH"
      },
      "outputs": [],
      "source": [
        "predictor = dspy.Predict(\"subject -> title, subtitle, blog_outline\")\n",
        "print(predictor(subject=\"Cats\"))"
      ]
    },
    {
      "cell_type": "markdown",
      "metadata": {
        "id": "afqIHulL1e6N"
      },
      "source": [
        "### Signature class\n",
        "\n",
        "Implement the signature as a class!"
      ]
    },
    {
      "cell_type": "code",
      "execution_count": null,
      "metadata": {
        "id": "3CNX91jr1njq"
      },
      "outputs": [],
      "source": [
        "class BasicBlogGenerator(dspy.Signature):\n",
        "    subject = dspy.InputField()\n",
        "    title = dspy.OutputField()\n",
        "    subtitles = dspy.OutputField()\n",
        "    blog_outline = dspy.OutputField()\n",
        "\n",
        "generate_blog = dspy.Predict(BasicBlogGenerator)\n",
        "\n",
        "subject='Cats (use dry-humor and sarcasm)'\n",
        "pred = generate_blog(subject=subject)\n",
        "\n",
        "print(f\"Subject:\\n{subject}\")\n",
        "print(f\"Title:\\n{pred.title}\")\n",
        "print(f\"Subtitles:\\n{pred.subtitles}\")\n",
        "print(f\"Outline:\\n{pred.blog_outline}\")"
      ]
    },
    {
      "cell_type": "markdown",
      "metadata": {
        "id": "Uhbv8kNJyjwb"
      },
      "source": [
        "### Logs\n",
        "\n",
        "Take a look what's happening in the background!"
      ]
    },
    {
      "cell_type": "code",
      "execution_count": null,
      "metadata": {
        "id": "EzyiwgSAyiNZ"
      },
      "outputs": [],
      "source": [
        "print(phoenix_session.url)"
      ]
    }
  ],
  "metadata": {
    "colab": {
      "collapsed_sections": [
        "CxZdxj0DsUpl"
      ],
      "provenance": [],
      "toc_visible": true
    },
    "kernelspec": {
      "display_name": "Python 3",
      "name": "python3"
    },
    "language_info": {
      "name": "python",
      "version": "3.10.12"
    }
  },
  "nbformat": 4,
  "nbformat_minor": 0
}
