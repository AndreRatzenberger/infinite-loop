{
 "cells": [
  {
   "cell_type": "code",
   "execution_count": 6,
   "metadata": {},
   "outputs": [],
   "source": [
    "import dspy\n",
    "import os\n",
    "\n",
    "llm = dspy.OpenAI(\n",
    "    model=\"gpt-3.5-turbo\", api_key=os.getenv(\"OPENAI_API_KEY\"), max_tokens=4000\n",
    ")\n",
    "\n",
    "dspy.settings.configure(lm=llm)"
   ]
  },
  {
   "cell_type": "code",
   "execution_count": 8,
   "metadata": {},
   "outputs": [
    {
     "name": "stdout",
     "output_type": "stream",
     "text": [
      "----------------------\n",
      "Prediction(\n",
      "    answer='Transformer model is a type of neural network architecture that is designed to handle sequential data more efficiently by processing all parts of the sequence simultaneously. It has been widely used in natural language processing tasks such as machine translation and text generation.'\n",
      ")\n",
      "----------------------\n"
     ]
    }
   ],
   "source": [
    "print(\"----------------------\")\n",
    "predictor = dspy.Predict(\"question -> answer\")\n",
    "print(predictor(question=\"What is a transformer model?\"))\n",
    "print(\"----------------------\")"
   ]
  },
  {
   "cell_type": "code",
   "execution_count": 3,
   "metadata": {},
   "outputs": [
    {
     "name": "stdout",
     "output_type": "stream",
     "text": [
      "----------------------\n",
      "Prediction(\n",
      "    projectplan='A webshop with flask\\nProjectplan: \\n1. Research and analyze similar webshops to identify key features and functionalities\\n2. Create a detailed project timeline with milestones and deadlines\\n3. Design the user interface and user experience for the webshop\\n4. Develop the backend functionality using Flask framework\\n5. Implement payment gateways and secure checkout process\\n6. Test the webshop for functionality, performance, and security\\n7. Launch the webshop and monitor for any issues or bugs\\n8. Implement marketing strategies to drive traffic and increase sales\\n9. Continuously update and improve the webshop based on user feedback and analytics.'\n",
      ")\n",
      "----------------------\n"
     ]
    }
   ],
   "source": [
    "print(\"----------------------\")\n",
    "predictor = dspy.Predict(\"idea -> projectplan\")\n",
    "print(predictor(idea=\"A webshop with flask\"))\n",
    "print(\"----------------------\")"
   ]
  },
  {
   "cell_type": "code",
   "execution_count": 4,
   "metadata": {},
   "outputs": [
    {
     "name": "stdout",
     "output_type": "stream",
     "text": [
      "----------------------\n",
      "Prediction(\n",
      "    title='The Fascinating World of Cats',\n",
      "    subtitle='Exploring the behavior and characteristics of our feline friends',\n",
      "    blog_outline='1. Introduction to the history of domestic cats\\n2. The unique physical features of cats\\n3. Understanding cat behavior and communication\\n4. The benefits of owning a cat\\n5. Tips for caring for your feline companion'\n",
      ")\n",
      "----------------------\n"
     ]
    }
   ],
   "source": [
    "print(\"----------------------\")\n",
    "predictor = dspy.Predict(\"subject -> title, subtitle, blog_outline\")\n",
    "print(predictor(subject=\"Cats\"))\n",
    "print(\"----------------------\")"
   ]
  },
  {
   "cell_type": "code",
   "execution_count": 5,
   "metadata": {},
   "outputs": [
    {
     "name": "stdout",
     "output_type": "stream",
     "text": [
      "Subject:\n",
      "Cats (use dry-humor and sarcasm)\n",
      "Title:\n",
      "Cats: The Superior Species\n",
      "Subtitles:\n",
      "1. Why Cats Are Clearly Smarter Than Humans\n",
      "2. The Art of Ignoring Their Owners: A Masterclass\n",
      "3. How to Train Your Human: A Step-By-Step Guide\n",
      "Outline:\n",
      "- Introduction: Explaining the undeniable superiority of cats\n",
      "- Main Points: Discussing the intelligence and independence of cats\n",
      "- Conclusion: Encouraging readers to bow down to their feline overlords\n"
     ]
    }
   ],
   "source": [
    "class BasicBlogGenerator(dspy.Signature):\n",
    "    subject = dspy.InputField()\n",
    "    title = dspy.OutputField()\n",
    "    subtitles = dspy.OutputField()\n",
    "    blog_outline = dspy.OutputField()\n",
    "\n",
    "\n",
    "generate_blog = dspy.Predict(BasicBlogGenerator)\n",
    "\n",
    "subject = \"Cats (use dry-humor and sarcasm)\"\n",
    "pred = generate_blog(subject=subject)\n",
    "\n",
    "print(f\"Subject:\\n{subject}\")\n",
    "print(f\"Title:\\n{pred.title}\")\n",
    "print(f\"Subtitles:\\n{pred.subtitles}\")\n",
    "print(f\"Outline:\\n{pred.blog_outline}\")"
   ]
  }
 ],
 "metadata": {
  "kernelspec": {
   "display_name": "infinite-loop",
   "language": "python",
   "name": "python3"
  },
  "language_info": {
   "codemirror_mode": {
    "name": "ipython",
    "version": 3
   },
   "file_extension": ".py",
   "mimetype": "text/x-python",
   "name": "python",
   "nbconvert_exporter": "python",
   "pygments_lexer": "ipython3",
   "version": "3.10.12"
  }
 },
 "nbformat": 4,
 "nbformat_minor": 2
}
